{
  "nbformat": 4,
  "nbformat_minor": 0,
  "metadata": {
    "colab": {
      "provenance": [],
      "collapsed_sections": []
    },
    "kernelspec": {
      "name": "python3",
      "display_name": "Python 3"
    },
    "language_info": {
      "name": "python"
    }
  },
  "cells": [
    {
      "cell_type": "markdown",
      "source": [
        "username = \"xpplg2\"\n",
        "password = '10PPLG2II'\n",
        "\n",
        "Kondisi\n",
        "\n",
        "1. Jika usename == inputan username dan password == inputan password maka tampilkan \"Selamat anda berhasil masuk\" dan berhenti\n",
        "\n",
        "2. Jika usernme != inputan uername dan password tidak sama maka tampilkan \"Username tidak match\" dan tampilkan login lagi\n",
        "\n",
        "3. Jika username == inputan username dan psseorf != inputan password maka tampikan \"Password salah\" dan tampilkan login lagi\n",
        "\n",
        "4. Selain itu tampilkan \"User belum terdaftar\" dan tampilkan login lagi"
      ],
      "metadata": {
        "id": "v8yk_pQS4wIp"
      }
    },
    {
      "cell_type": "code",
      "execution_count": 7,
      "metadata": {
        "colab": {
          "base_uri": "https://localhost:8080/"
        },
        "id": "-gYOePW_4JRP",
        "outputId": "94ec8dec-0951-4d95-f2ed-81c6ee39db60"
      },
      "outputs": [
        {
          "output_type": "stream",
          "name": "stdout",
          "text": [
            "Masukan Username Anda = xpplg2\n",
            "Masukan Password Anda = ds\n",
            "Password anda salah\n",
            "Masukan Username Anda = yht\n",
            "Masukan Password Anda = h6y\n",
            "User belum terdaftar\n",
            "Masukan Username Anda = xpplg2\n",
            "Masukan Password Anda = 10PPLG2II\n",
            "Selamat anda berhasil masuk\n"
          ]
        }
      ],
      "source": [
        "username = \"xpplg2\"\n",
        "password = '10PPLG2II'\n",
        "\n",
        "login = False\n",
        "\n",
        "while not login:\n",
        "  inputUsername = input(\"Masukan Username Anda = \")\n",
        "  inputPassword = input(\"Masukan Password Anda = \")\n",
        "\n",
        "  if (inputUsername == username and inputPassword == password):\n",
        "    print(\"Selamat anda berhasil masuk\")\n",
        "    login = True\n",
        "  elif (inputUsername != username and inputPassword == password):\n",
        "    print(\"Username tidak match\")\n",
        "  elif(inputUsername == username and inputPassword != password):\n",
        "    print(\"Password anda salah\")\n",
        "  else:\n",
        "    print(\"User belum terdaftar\")"
      ]
    }
  ]
}