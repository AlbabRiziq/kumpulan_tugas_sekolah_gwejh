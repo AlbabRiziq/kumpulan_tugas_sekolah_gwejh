{
  "nbformat": 4,
  "nbformat_minor": 0,
  "metadata": {
    "colab": {
      "provenance": [],
      "collapsed_sections": []
    },
    "kernelspec": {
      "name": "python3",
      "display_name": "Python 3"
    },
    "language_info": {
      "name": "python"
    }
  },
  "cells": [
    {
      "cell_type": "markdown",
      "source": [
        "username = \"xpplg2\"\n",
        "password = '10PPLG2II'\n",
        "\n",
        "Kondisi\n",
        "\n",
        "1. Jika usename == inputan username dan password == inputan password maka tampilkan \"Selamat anda berhasil masuk\" dan berhenti\n",
        "\n",
        "2. Jika usernme != inputan uername dan password tidak sama maka tampilkan \"Username tidak match\" dan tampilkan login lagi\n",
        "\n",
        "3. Jika username == inputan username dan psseorf != inputan password maka tampikan \"Password salah\" dan tampilkan login lagi\n",
        "\n",
        "4. Selain itu tampilkan \"User belum terdaftar\" dan tampilkan login lagi"
      ],
      "metadata": {
        "id": "v8yk_pQS4wIp"
      }
    },
    {
      "cell_type": "code",
      "execution_count": null,
      "metadata": {
        "colab": {
          "base_uri": "https://localhost:8080/"
        },
        "id": "-gYOePW_4JRP",
        "outputId": "ddce0c65-119f-415b-d88e-a7b7e7fa8524"
      },
      "outputs": [
        {
          "output_type": "stream",
          "name": "stdout",
          "text": [
            "Masukan Username Anda = sf\n",
            "Masukan Password Anda = 10PPLG2II\n",
            "Username tidak match\n",
            "Masukan Username Anda = ytdh\n",
            "Masukan Password Anda =  m\n",
            "User belum terdaftar\n",
            "Masukan Username Anda = xpplg2\n",
            "Masukan Password Anda = 10PPLG2II\n",
            "Selamat anda berhasil masuk\n"
          ]
        }
      ],
      "source": [
        "username = \"xpplg2\"\n",
        "password = '10PPLG2II'\n",
        "\n",
        "login = False\n",
        "\n",
        "while not login:\n",
        "  inputUsername = input(\"Masukan Username Anda = \")\n",
        "  inputPassword = input(\"Masukan Password Anda = \")\n",
        "\n",
        "  if (inputUsername == username and inputPassword == password):\n",
        "    print(\"Selamat anda berhasil masuk\")\n",
        "    login = True\n",
        "  elif (inputUsername != username and inputPassword == password):\n",
        "    print(\"Username tidak match\")\n",
        "  elif(inputUsername == username and inputPassword != password):\n",
        "    print(\"Password anda salah\")\n",
        "  else:\n",
        "    print(\"User belum terdaftar\")"
      ]
    },
    {
      "cell_type": "code",
      "source": [
        "daftar_kota = [\"Jakarta\", \"Surabaya\", \"Bandung\", \"Semarang\", \"Tegal\", \"Kebumen\", \"Purwakarta\"]\n",
        "\n",
        "for i in daftar_kota:\n",
        "  print(i)\n",
        "\n",
        "for i in enumerate(daftar_kota):\n",
        "  print(i)"
      ],
      "metadata": {
        "colab": {
          "base_uri": "https://localhost:8080/"
        },
        "id": "_cEawP3mLS8I",
        "outputId": "1d56a1c8-fd1a-4f6a-80ea-c59c9f224ed0"
      },
      "execution_count": 6,
      "outputs": [
        {
          "output_type": "stream",
          "name": "stdout",
          "text": [
            "Jakarta\n",
            "Surabaya\n",
            "Bandung\n",
            "Semarang\n",
            "Tegal\n",
            "Kebumen\n",
            "Purwakarta\n",
            "(0, 'Jakarta')\n",
            "(1, 'Surabaya')\n",
            "(2, 'Bandung')\n",
            "(3, 'Semarang')\n",
            "(4, 'Tegal')\n",
            "(5, 'Kebumen')\n",
            "(6, 'Purwakarta')\n"
          ]
        }
      ]
    },
    {
      "cell_type": "code",
      "source": [
        "nama_siswa = []\n",
        "jumlah_siswa = int(input(\"Berapa jumlah siswa yang akan diinputkan? = \"))\n",
        "i = 1\n",
        "\n",
        "while i <= jumlah_siswa:\n",
        "  print(\"Input siswa ke\", i)\n",
        "  nama = input(\"Masukan nama siwa = \")\n",
        "  nama_siswa.append(nama)\n",
        "  i += 1\n",
        "print(nama_siswa)"
      ],
      "metadata": {
        "colab": {
          "base_uri": "https://localhost:8080/"
        },
        "id": "TuuwimZOLfkO",
        "outputId": "9891fe57-e6b8-47d4-a346-2d3c77cf6c4f"
      },
      "execution_count": 9,
      "outputs": [
        {
          "output_type": "stream",
          "name": "stdout",
          "text": [
            "Berapa jumlah siswa yang akan diinputkan? = 3\n",
            "Input siswa ke 1\n",
            "Masukan nama siwa = Riziq\n",
            "Input siswa ke 2\n",
            "Masukan nama siwa = Zahbjdhb\n",
            "Input siswa ke 3\n",
            "Masukan nama siwa = Ulil\n",
            "['Riziq', 'Zahbjdhb', 'Ulil']\n"
          ]
        }
      ]
    }
  ]
}