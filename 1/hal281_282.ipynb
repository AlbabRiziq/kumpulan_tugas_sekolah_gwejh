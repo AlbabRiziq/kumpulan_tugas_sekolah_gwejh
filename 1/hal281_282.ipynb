{
 "cells": [
  {
   "cell_type": "markdown",
   "metadata": {},
   "source": [
    "## DASAR-DASAR PPLG KELAS 10 HALAMAN 281-282\n",
    "\n"
   ]
  },
  {
   "cell_type": "code",
   "execution_count": 44,
   "metadata": {},
   "outputs": [
    {
     "name": "stdout",
     "output_type": "stream",
     "text": [
      "1 1 1 1 1 1 1 \n",
      "2 2 2 2 2 2 \n",
      "3 3 3 3 3 \n",
      "4 4 4 4 \n",
      "5 5 5 \n",
      "6 6 \n",
      "7 \n"
     ]
    }
   ],
   "source": [
    "x = 7\n",
    "j = 1\n",
    "while x > 0:\n",
    "    for i in range(x):\n",
    "        print(j, end=\" \")\n",
    "    print()    \n",
    "    x -= 1\n",
    "    j += 1\n",
    "        \n"
   ]
  },
  {
   "cell_type": "code",
   "execution_count": null,
   "metadata": {},
   "outputs": [],
   "source": [
    "x = 7\n",
    "\n",
    "for i in range(x):\n",
    "    for j in range(i):\n",
    "        print(j+1, end=\" \")\n",
    "    print()"
   ]
  },
  {
   "cell_type": "code",
   "execution_count": 2,
   "metadata": {},
   "outputs": [
    {
     "name": "stdout",
     "output_type": "stream",
     "text": [
      "Menu Makanan\n",
      "1. Soto = Rp. 10000\n",
      "2. Nasi Goreng = Rp. 15000\n",
      "3. Mie Goreng = Rp. 12000\n",
      "4. Mie Ayam = Rp. 12000\n",
      "5. Mie Rebus = Rp. 10000\n",
      "Total harga: Rp. 120000\n",
      "Kembalian: Rp. 2121091221\n"
     ]
    }
   ],
   "source": [
    "menu = {\n",
    "    1: [\"Soto\", 10000],\n",
    "    2: [\"Nasi Goreng\", 15000],\n",
    "    3: [\"Mie Goreng\", 12000],\n",
    "    4: [\"Mie Ayam\", 12000],\n",
    "    5: [\"Mie Rebus\", 10000],\n",
    "    \n",
    "}\n",
    "\n",
    "print(\"Menu Makanan\")\n",
    "\n",
    "beliLagi = False\n",
    "\n",
    "while not beliLagi:\n",
    "    for i in menu:\n",
    "        print(f\"{i}. {menu[i][0]} = Rp. {menu[i][1]}\")\n",
    "    \n",
    "    pilihan = int(input(\"Masukkan pilihan menu: \"))\n",
    "    if pilihan not in menu:\n",
    "        print(\"Menu tidak tersedia\")\n",
    "        continue\n",
    "\n",
    "\n",
    "    jumlah = int(input(\"Masukkan jumlah pesanan: \"))\n",
    "    uang = int(input(\"Masukkan uang: \"))\n",
    "    total = menu[pilihan][1] * jumlah\n",
    "    print(f\"Total harga: Rp. {total}\")\n",
    "    kembalian = uang - total\n",
    "    if kembalian < 0:\n",
    "        print(\"Uang anda kurang\")\n",
    "        continue\n",
    "    else:\n",
    "        print(f\"Kembalian: Rp. {kembalian}\")\n",
    "        break\n",
    "beliLagi = str(input(\"Apakah anda ingin beli lagi? (y/n): \"))==\"y\"\n"
   ]
  }
 ],
 "metadata": {
  "kernelspec": {
   "display_name": "Python 3.10.6 64-bit (windows store)",
   "language": "python",
   "name": "python3"
  },
  "language_info": {
   "codemirror_mode": {
    "name": "ipython",
    "version": 3
   },
   "file_extension": ".py",
   "mimetype": "text/x-python",
   "name": "python",
   "nbconvert_exporter": "python",
   "pygments_lexer": "ipython3",
   "version": "3.10.6"
  },
  "orig_nbformat": 4,
  "vscode": {
   "interpreter": {
    "hash": "9cee42bb74b97389c2dbe0ad86904fa9fdaa35c33c6352dfb23b5e75d4af4233"
   }
  }
 },
 "nbformat": 4,
 "nbformat_minor": 2
}
